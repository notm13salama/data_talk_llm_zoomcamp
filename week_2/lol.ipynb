{
 "cells": [
  {
   "cell_type": "code",
   "execution_count": 54,
   "metadata": {},
   "outputs": [],
   "source": [
    "from qdrant_client import QdrantClient, models\n",
    "client = QdrantClient(\"http://localhost:6333\")\n",
    "\n"
   ]
  },
  {
   "cell_type": "code",
   "execution_count": 55,
   "metadata": {},
   "outputs": [
    {
     "data": {
      "text/plain": [
       "<qdrant_client.qdrant_client.QdrantClient at 0x22665c0bee0>"
      ]
     },
     "execution_count": 55,
     "metadata": {},
     "output_type": "execute_result"
    }
   ],
   "source": [
    "client"
   ]
  },
  {
   "cell_type": "code",
   "execution_count": 56,
   "metadata": {},
   "outputs": [],
   "source": [
    "import json\n",
    "\n",
    "data_path = r\"C:\\Users\\m.salama\\Desktop\\my-workspace\\llm-zc\\week_0\\documents.json\"\n",
    "documents_raw = json.load(open(data_path, \"r\", encoding=\"utf-8\"))"
   ]
  },
  {
   "cell_type": "code",
   "execution_count": 57,
   "metadata": {},
   "outputs": [
    {
     "name": "stdout",
     "output_type": "stream",
     "text": [
      "data-engineering-zoomcamp\n",
      "machine-learning-zoomcamp\n",
      "mlops-zoomcamp\n",
      "dict_keys(['text', 'section', 'question'])\n"
     ]
    }
   ],
   "source": [
    "for d in documents_raw:\n",
    "    print(d[\"course\"])\n",
    "\n",
    "for d in documents_raw:\n",
    "    print(d[\"documents\"][0].keys())\n",
    "    break"
   ]
  },
  {
   "cell_type": "code",
   "execution_count": 58,
   "metadata": {},
   "outputs": [
    {
     "name": "stdout",
     "output_type": "stream",
     "text": [
      "30\n",
      "BAAI/bge-base-en\n",
      "BAAI/bge-base-en-v1.5\n",
      "BAAI/bge-large-en-v1.5\n",
      "BAAI/bge-small-en\n",
      "BAAI/bge-small-en-v1.5\n",
      "BAAI/bge-small-zh-v1.5\n",
      "mixedbread-ai/mxbai-embed-large-v1\n",
      "snowflake/snowflake-arctic-embed-xs\n",
      "snowflake/snowflake-arctic-embed-s\n",
      "snowflake/snowflake-arctic-embed-m\n",
      "snowflake/snowflake-arctic-embed-m-long\n",
      "snowflake/snowflake-arctic-embed-l\n",
      "jinaai/jina-clip-v1\n",
      "Qdrant/clip-ViT-B-32-text\n",
      "sentence-transformers/all-MiniLM-L6-v2\n",
      "jinaai/jina-embeddings-v2-base-en\n",
      "jinaai/jina-embeddings-v2-small-en\n",
      "jinaai/jina-embeddings-v2-base-de\n",
      "jinaai/jina-embeddings-v2-base-code\n",
      "jinaai/jina-embeddings-v2-base-zh\n",
      "jinaai/jina-embeddings-v2-base-es\n",
      "thenlper/gte-base\n",
      "thenlper/gte-large\n",
      "nomic-ai/nomic-embed-text-v1.5\n",
      "nomic-ai/nomic-embed-text-v1.5-Q\n",
      "nomic-ai/nomic-embed-text-v1\n",
      "sentence-transformers/paraphrase-multilingual-MiniLM-L12-v2\n",
      "sentence-transformers/paraphrase-multilingual-mpnet-base-v2\n",
      "intfloat/multilingual-e5-large\n",
      "jinaai/jina-embeddings-v3\n"
     ]
    }
   ],
   "source": [
    "from fastembed import TextEmbedding\n",
    "mdls = TextEmbedding.list_supported_models()\n",
    "\n",
    "print(len(mdls))\n",
    "for m in mdls:\n",
    "    print(m[\"model\"])"
   ]
  },
  {
   "cell_type": "code",
   "execution_count": 59,
   "metadata": {},
   "outputs": [
    {
     "name": "stdout",
     "output_type": "stream",
     "text": [
      "BAAI/bge-small-zh-v1.5\n",
      "Qdrant/clip-ViT-B-32-text\n",
      "jinaai/jina-embeddings-v2-small-en\n"
     ]
    }
   ],
   "source": [
    "EMBEDDING_DIMENSIONALITY = 512\n",
    "\n",
    "for model in mdls:\n",
    "    if model[\"dim\"] == EMBEDDING_DIMENSIONALITY:\n",
    "        print(model[\"model\"])"
   ]
  },
  {
   "cell_type": "code",
   "execution_count": 60,
   "metadata": {},
   "outputs": [
    {
     "ename": "UnexpectedResponse",
     "evalue": "Unexpected Response: 409 (Conflict)\nRaw response content:\nb'{\"status\":{\"error\":\"Wrong input: Collection `zoomcamp-rag` already exists!\"},\"time\":0.00367294}'",
     "output_type": "error",
     "traceback": [
      "\u001b[1;31m---------------------------------------------------------------------------\u001b[0m",
      "\u001b[1;31mUnexpectedResponse\u001b[0m                        Traceback (most recent call last)",
      "Cell \u001b[1;32mIn[60], line 6\u001b[0m\n\u001b[0;32m      3\u001b[0m collection_name \u001b[39m=\u001b[39m \u001b[39m\"\u001b[39m\u001b[39mzoomcamp-rag\u001b[39m\u001b[39m\"\u001b[39m\n\u001b[0;32m      5\u001b[0m \u001b[39m# Create the collection with specified vector parameters\u001b[39;00m\n\u001b[1;32m----> 6\u001b[0m client\u001b[39m.\u001b[39;49mcreate_collection(\n\u001b[0;32m      7\u001b[0m     collection_name\u001b[39m=\u001b[39;49mcollection_name,\n\u001b[0;32m      8\u001b[0m     vectors_config\u001b[39m=\u001b[39;49mmodels\u001b[39m.\u001b[39;49mVectorParams(\n\u001b[0;32m      9\u001b[0m         size\u001b[39m=\u001b[39;49mEMBEDDING_DIMENSIONALITY,  \u001b[39m# Dimensionality of the vectors\u001b[39;49;00m\n\u001b[0;32m     10\u001b[0m         distance\u001b[39m=\u001b[39;49mmodels\u001b[39m.\u001b[39;49mDistance\u001b[39m.\u001b[39;49mCOSINE  \u001b[39m# Distance metric for similarity search\u001b[39;49;00m\n\u001b[0;32m     11\u001b[0m     )\n\u001b[0;32m     12\u001b[0m )\n",
      "File \u001b[1;32mc:\\Users\\m.salama\\.conda\\envs\\llm-zc\\lib\\site-packages\\qdrant_client\\qdrant_client.py:2382\u001b[0m, in \u001b[0;36mQdrantClient.create_collection\u001b[1;34m(self, collection_name, vectors_config, sparse_vectors_config, shard_number, sharding_method, replication_factor, write_consistency_factor, on_disk_payload, hnsw_config, optimizers_config, wal_config, quantization_config, init_from, timeout, strict_mode_config, **kwargs)\u001b[0m\n\u001b[0;32m   2332\u001b[0m \u001b[39m\u001b[39m\u001b[39m\"\"\"Create empty collection with given parameters\u001b[39;00m\n\u001b[0;32m   2333\u001b[0m \n\u001b[0;32m   2334\u001b[0m \u001b[39mArgs:\u001b[39;00m\n\u001b[1;32m   (...)\u001b[0m\n\u001b[0;32m   2378\u001b[0m \u001b[39m    Operation result\u001b[39;00m\n\u001b[0;32m   2379\u001b[0m \u001b[39m\"\"\"\u001b[39;00m\n\u001b[0;32m   2380\u001b[0m \u001b[39massert\u001b[39;00m \u001b[39mlen\u001b[39m(kwargs) \u001b[39m==\u001b[39m \u001b[39m0\u001b[39m, \u001b[39mf\u001b[39m\u001b[39m\"\u001b[39m\u001b[39mUnknown arguments: \u001b[39m\u001b[39m{\u001b[39;00m\u001b[39mlist\u001b[39m(kwargs\u001b[39m.\u001b[39mkeys())\u001b[39m}\u001b[39;00m\u001b[39m\"\u001b[39m\n\u001b[1;32m-> 2382\u001b[0m \u001b[39mreturn\u001b[39;00m \u001b[39mself\u001b[39m\u001b[39m.\u001b[39m_client\u001b[39m.\u001b[39mcreate_collection(\n\u001b[0;32m   2383\u001b[0m     collection_name\u001b[39m=\u001b[39mcollection_name,\n\u001b[0;32m   2384\u001b[0m     vectors_config\u001b[39m=\u001b[39mvectors_config,\n\u001b[0;32m   2385\u001b[0m     shard_number\u001b[39m=\u001b[39mshard_number,\n\u001b[0;32m   2386\u001b[0m     sharding_method\u001b[39m=\u001b[39msharding_method,\n\u001b[0;32m   2387\u001b[0m     replication_factor\u001b[39m=\u001b[39mreplication_factor,\n\u001b[0;32m   2388\u001b[0m     write_consistency_factor\u001b[39m=\u001b[39mwrite_consistency_factor,\n\u001b[0;32m   2389\u001b[0m     on_disk_payload\u001b[39m=\u001b[39mon_disk_payload,\n\u001b[0;32m   2390\u001b[0m     hnsw_config\u001b[39m=\u001b[39mhnsw_config,\n\u001b[0;32m   2391\u001b[0m     optimizers_config\u001b[39m=\u001b[39moptimizers_config,\n\u001b[0;32m   2392\u001b[0m     wal_config\u001b[39m=\u001b[39mwal_config,\n\u001b[0;32m   2393\u001b[0m     quantization_config\u001b[39m=\u001b[39mquantization_config,\n\u001b[0;32m   2394\u001b[0m     init_from\u001b[39m=\u001b[39minit_from,\n\u001b[0;32m   2395\u001b[0m     timeout\u001b[39m=\u001b[39mtimeout,\n\u001b[0;32m   2396\u001b[0m     sparse_vectors_config\u001b[39m=\u001b[39msparse_vectors_config,\n\u001b[0;32m   2397\u001b[0m     strict_mode_config\u001b[39m=\u001b[39mstrict_mode_config,\n\u001b[0;32m   2398\u001b[0m     \u001b[39m*\u001b[39m\u001b[39m*\u001b[39mkwargs,\n\u001b[0;32m   2399\u001b[0m )\n",
      "File \u001b[1;32mc:\\Users\\m.salama\\.conda\\envs\\llm-zc\\lib\\site-packages\\qdrant_client\\qdrant_remote.py:2815\u001b[0m, in \u001b[0;36mQdrantRemote.create_collection\u001b[1;34m(self, collection_name, vectors_config, shard_number, replication_factor, write_consistency_factor, on_disk_payload, hnsw_config, optimizers_config, wal_config, quantization_config, init_from, timeout, sparse_vectors_config, sharding_method, strict_mode_config, **kwargs)\u001b[0m\n\u001b[0;32m   2797\u001b[0m     init_from \u001b[39m=\u001b[39m GrpcToRest\u001b[39m.\u001b[39mconvert_init_from(init_from)\n\u001b[0;32m   2799\u001b[0m create_collection_request \u001b[39m=\u001b[39m models\u001b[39m.\u001b[39mCreateCollection(\n\u001b[0;32m   2800\u001b[0m     vectors\u001b[39m=\u001b[39mvectors_config,\n\u001b[0;32m   2801\u001b[0m     shard_number\u001b[39m=\u001b[39mshard_number,\n\u001b[1;32m   (...)\u001b[0m\n\u001b[0;32m   2812\u001b[0m     strict_mode_config\u001b[39m=\u001b[39mstrict_mode_config,\n\u001b[0;32m   2813\u001b[0m )\n\u001b[1;32m-> 2815\u001b[0m result: Optional[\u001b[39mbool\u001b[39m] \u001b[39m=\u001b[39m \u001b[39mself\u001b[39;49m\u001b[39m.\u001b[39;49mhttp\u001b[39m.\u001b[39;49mcollections_api\u001b[39m.\u001b[39;49mcreate_collection(\n\u001b[0;32m   2816\u001b[0m     collection_name\u001b[39m=\u001b[39;49mcollection_name,\n\u001b[0;32m   2817\u001b[0m     create_collection\u001b[39m=\u001b[39;49mcreate_collection_request,\n\u001b[0;32m   2818\u001b[0m     timeout\u001b[39m=\u001b[39;49mtimeout,\n\u001b[0;32m   2819\u001b[0m )\u001b[39m.\u001b[39mresult\n\u001b[0;32m   2821\u001b[0m \u001b[39massert\u001b[39;00m result \u001b[39mis\u001b[39;00m \u001b[39mnot\u001b[39;00m \u001b[39mNone\u001b[39;00m, \u001b[39m\"\u001b[39m\u001b[39mCreate collection returned None\u001b[39m\u001b[39m\"\u001b[39m\n\u001b[0;32m   2822\u001b[0m \u001b[39mreturn\u001b[39;00m result\n",
      "File \u001b[1;32mc:\\Users\\m.salama\\.conda\\envs\\llm-zc\\lib\\site-packages\\qdrant_client\\http\\api\\collections_api.py:294\u001b[0m, in \u001b[0;36mSyncCollectionsApi.create_collection\u001b[1;34m(self, collection_name, timeout, create_collection)\u001b[0m\n\u001b[0;32m    285\u001b[0m \u001b[39mdef\u001b[39;00m\u001b[39m \u001b[39m\u001b[39mcreate_collection\u001b[39m(\n\u001b[0;32m    286\u001b[0m     \u001b[39mself\u001b[39m,\n\u001b[0;32m    287\u001b[0m     collection_name: \u001b[39mstr\u001b[39m,\n\u001b[0;32m    288\u001b[0m     timeout: \u001b[39mint\u001b[39m \u001b[39m=\u001b[39m \u001b[39mNone\u001b[39;00m,\n\u001b[0;32m    289\u001b[0m     create_collection: m\u001b[39m.\u001b[39mCreateCollection \u001b[39m=\u001b[39m \u001b[39mNone\u001b[39;00m,\n\u001b[0;32m    290\u001b[0m ) \u001b[39m-\u001b[39m\u001b[39m>\u001b[39m m\u001b[39m.\u001b[39mInlineResponse200:\n\u001b[0;32m    291\u001b[0m \u001b[39m    \u001b[39m\u001b[39m\"\"\"\u001b[39;00m\n\u001b[0;32m    292\u001b[0m \u001b[39m    Create new collection with given parameters\u001b[39;00m\n\u001b[0;32m    293\u001b[0m \u001b[39m    \"\"\"\u001b[39;00m\n\u001b[1;32m--> 294\u001b[0m     \u001b[39mreturn\u001b[39;00m \u001b[39mself\u001b[39;49m\u001b[39m.\u001b[39;49m_build_for_create_collection(\n\u001b[0;32m    295\u001b[0m         collection_name\u001b[39m=\u001b[39;49mcollection_name,\n\u001b[0;32m    296\u001b[0m         timeout\u001b[39m=\u001b[39;49mtimeout,\n\u001b[0;32m    297\u001b[0m         create_collection\u001b[39m=\u001b[39;49mcreate_collection,\n\u001b[0;32m    298\u001b[0m     )\n",
      "File \u001b[1;32mc:\\Users\\m.salama\\.conda\\envs\\llm-zc\\lib\\site-packages\\qdrant_client\\http\\api\\collections_api.py:96\u001b[0m, in \u001b[0;36m_CollectionsApi._build_for_create_collection\u001b[1;34m(self, collection_name, timeout, create_collection)\u001b[0m\n\u001b[0;32m     94\u001b[0m \u001b[39mif\u001b[39;00m \u001b[39m\"\u001b[39m\u001b[39mContent-Type\u001b[39m\u001b[39m\"\u001b[39m \u001b[39mnot\u001b[39;00m \u001b[39min\u001b[39;00m headers:\n\u001b[0;32m     95\u001b[0m     headers[\u001b[39m\"\u001b[39m\u001b[39mContent-Type\u001b[39m\u001b[39m\"\u001b[39m] \u001b[39m=\u001b[39m \u001b[39m\"\u001b[39m\u001b[39mapplication/json\u001b[39m\u001b[39m\"\u001b[39m\n\u001b[1;32m---> 96\u001b[0m \u001b[39mreturn\u001b[39;00m \u001b[39mself\u001b[39;49m\u001b[39m.\u001b[39;49mapi_client\u001b[39m.\u001b[39;49mrequest(\n\u001b[0;32m     97\u001b[0m     type_\u001b[39m=\u001b[39;49mm\u001b[39m.\u001b[39;49mInlineResponse200,\n\u001b[0;32m     98\u001b[0m     method\u001b[39m=\u001b[39;49m\u001b[39m\"\u001b[39;49m\u001b[39mPUT\u001b[39;49m\u001b[39m\"\u001b[39;49m,\n\u001b[0;32m     99\u001b[0m     url\u001b[39m=\u001b[39;49m\u001b[39m\"\u001b[39;49m\u001b[39m/collections/\u001b[39;49m\u001b[39m{collection_name}\u001b[39;49;00m\u001b[39m\"\u001b[39;49m,\n\u001b[0;32m    100\u001b[0m     headers\u001b[39m=\u001b[39;49mheaders \u001b[39mif\u001b[39;49;00m headers \u001b[39melse\u001b[39;49;00m \u001b[39mNone\u001b[39;49;00m,\n\u001b[0;32m    101\u001b[0m     path_params\u001b[39m=\u001b[39;49mpath_params,\n\u001b[0;32m    102\u001b[0m     params\u001b[39m=\u001b[39;49mquery_params,\n\u001b[0;32m    103\u001b[0m     content\u001b[39m=\u001b[39;49mbody,\n\u001b[0;32m    104\u001b[0m )\n",
      "File \u001b[1;32mc:\\Users\\m.salama\\.conda\\envs\\llm-zc\\lib\\site-packages\\qdrant_client\\http\\api_client.py:95\u001b[0m, in \u001b[0;36mApiClient.request\u001b[1;34m(self, type_, method, url, path_params, **kwargs)\u001b[0m\n\u001b[0;32m     93\u001b[0m     kwargs[\u001b[39m\"\u001b[39m\u001b[39mtimeout\u001b[39m\u001b[39m\"\u001b[39m] \u001b[39m=\u001b[39m \u001b[39mint\u001b[39m(kwargs[\u001b[39m\"\u001b[39m\u001b[39mparams\u001b[39m\u001b[39m\"\u001b[39m][\u001b[39m\"\u001b[39m\u001b[39mtimeout\u001b[39m\u001b[39m\"\u001b[39m])\n\u001b[0;32m     94\u001b[0m request \u001b[39m=\u001b[39m \u001b[39mself\u001b[39m\u001b[39m.\u001b[39m_client\u001b[39m.\u001b[39mbuild_request(method, url, \u001b[39m*\u001b[39m\u001b[39m*\u001b[39mkwargs)\n\u001b[1;32m---> 95\u001b[0m \u001b[39mreturn\u001b[39;00m \u001b[39mself\u001b[39;49m\u001b[39m.\u001b[39;49msend(request, type_)\n",
      "File \u001b[1;32mc:\\Users\\m.salama\\.conda\\envs\\llm-zc\\lib\\site-packages\\qdrant_client\\http\\api_client.py:130\u001b[0m, in \u001b[0;36mApiClient.send\u001b[1;34m(self, request, type_)\u001b[0m\n\u001b[0;32m    128\u001b[0m     \u001b[39mexcept\u001b[39;00m ValidationError \u001b[39mas\u001b[39;00m e:\n\u001b[0;32m    129\u001b[0m         \u001b[39mraise\u001b[39;00m ResponseHandlingException(e)\n\u001b[1;32m--> 130\u001b[0m \u001b[39mraise\u001b[39;00m UnexpectedResponse\u001b[39m.\u001b[39mfor_response(response)\n",
      "\u001b[1;31mUnexpectedResponse\u001b[0m: Unexpected Response: 409 (Conflict)\nRaw response content:\nb'{\"status\":{\"error\":\"Wrong input: Collection `zoomcamp-rag` already exists!\"},\"time\":0.00367294}'"
     ]
    }
   ],
   "source": [
    "model_handle = \"jinaai/jina-embeddings-v2-small-en\"\n",
    "\n",
    "collection_name = \"zoomcamp-rag\"\n",
    "\n",
    "# Create the collection with specified vector parameters\n",
    "client.create_collection(\n",
    "    collection_name=collection_name,\n",
    "    vectors_config=models.VectorParams(\n",
    "        size=EMBEDDING_DIMENSIONALITY,  # Dimensionality of the vectors\n",
    "        distance=models.Distance.COSINE  # Distance metric for similarity search\n",
    "    )\n",
    ")\n"
   ]
  },
  {
   "cell_type": "code",
   "execution_count": null,
   "metadata": {},
   "outputs": [],
   "source": [
    "points = []\n",
    "id = 0\n",
    "\n",
    "for course in documents_raw:\n",
    "    for doc in course['documents']:\n",
    "\n",
    "        point = models.PointStruct(\n",
    "            id=id,\n",
    "            vector=models.Document(text=doc['text'], model=model_handle), #embed text locally with \"jinaai/jina-embeddings-v2-small-en\" from FastEmbed\n",
    "            payload={\n",
    "                \"text\": doc['text'],\n",
    "                \"section\": doc['section'],\n",
    "                \"course\": course['course']\n",
    "            } #save all needed metadata fields\n",
    "        )\n",
    "        points.append(point)\n",
    "\n",
    "        id += 1\n"
   ]
  },
  {
   "cell_type": "code",
   "execution_count": 61,
   "metadata": {},
   "outputs": [
    {
     "data": {
      "text/plain": [
       "UpdateResult(operation_id=3, status=<UpdateStatus.COMPLETED: 'completed'>)"
      ]
     },
     "execution_count": 61,
     "metadata": {},
     "output_type": "execute_result"
    }
   ],
   "source": [
    "client.upsert(\n",
    "    collection_name=collection_name,\n",
    "    points=points\n",
    ")"
   ]
  },
  {
   "cell_type": "code",
   "execution_count": 62,
   "metadata": {},
   "outputs": [],
   "source": [
    "def search(query, limit=1):\n",
    "\n",
    "    results = client.query_points(\n",
    "        collection_name=collection_name,\n",
    "        query=models.Document( #embed the query text locally with \"jinaai/jina-embeddings-v2-small-en\"\n",
    "            text=query,\n",
    "            model=model_handle \n",
    "        ),\n",
    "        limit=limit, # top closest matches\n",
    "        with_payload=True #to get metadata in the results\n",
    "    )\n",
    "\n",
    "    return results"
   ]
  },
  {
   "cell_type": "code",
   "execution_count": 63,
   "metadata": {},
   "outputs": [
    {
     "name": "stdout",
     "output_type": "stream",
     "text": [
      "{\n",
      "  \"text\": \"Initially, I did not assume there was a model2. I copied the original model1.bin and dv.bin. Then when I tried to load using\\nCOPY [\\\"model2.bin\\\", \\\"dv.bin\\\", \\\"./\\\"]\\nthen I got the error above in MINGW64 (git bash) on Windows.\\nThe temporary solution I found was to use\\nCOPY [\\\"*\\\", \\\"./\\\"]\\nwhich I assume combines all the files from the original docker image and the files in your working directory.\\nAdded by Muhammed Tan\",\n",
      "  \"section\": \"5. Deploying Machine Learning Models\",\n",
      "  \"question\": \"Error: failed to compute cache key: \\\"/model2.bin\\\" not found: not found\"\n",
      "}\n"
     ]
    }
   ],
   "source": [
    "import random\n",
    "\n",
    "course = random.choice(documents_raw)\n",
    "course_piece = random.choice(course['documents'])\n",
    "print(json.dumps(course_piece, indent=2))"
   ]
  },
  {
   "cell_type": "code",
   "execution_count": 64,
   "metadata": {},
   "outputs": [],
   "source": [
    "result = search(course_piece['question'])\n"
   ]
  },
  {
   "cell_type": "code",
   "execution_count": 65,
   "metadata": {},
   "outputs": [
    {
     "data": {
      "text/plain": [
       "QueryResponse(points=[ScoredPoint(id=239, version=3, score=0.8333795, payload={'text': \"ValueError: Path /Users/kt/.prefect/storage/44ccce0813ed4f24ab2d3783de7a9c3a does not exist.\\nRemove ```cache_key_fn=task_input_hash ``` as it’s in argument in your function & run your flow again.\\nNote: catche key is beneficial if you happen to run the code multiple times, it won't repeat the process which you have finished running in the previous run.  That means, if you have this ```cache_key``` in your initial run, this might cause the error.\", 'section': \"error: Error while reading table: trips_data_all.external_fhv_tripdata, error message: Parquet column 'DOlocationID' has type INT64 which does not match the target cpp_type DOUBLE.\", 'course': 'data-engineering-zoomcamp'}, vector=None, shard_key=None, order_value=None)])"
      ]
     },
     "execution_count": 65,
     "metadata": {},
     "output_type": "execute_result"
    }
   ],
   "source": [
    "result"
   ]
  },
  {
   "cell_type": "code",
   "execution_count": 66,
   "metadata": {},
   "outputs": [
    {
     "name": "stdout",
     "output_type": "stream",
     "text": [
      "Question:\n",
      "Error: failed to compute cache key: \"/model2.bin\" not found: not found\n",
      "\n",
      "Top Retrieved Answer:\n",
      "ValueError: Path /Users/kt/.prefect/storage/44ccce0813ed4f24ab2d3783de7a9c3a does not exist.\n",
      "Remove ```cache_key_fn=task_input_hash ``` as it’s in argument in your function & run your flow again.\n",
      "Note: catche key is beneficial if you happen to run the code multiple times, it won't repeat the process which you have finished running in the previous run.  That means, if you have this ```cache_key``` in your initial run, this might cause the error.\n",
      "\n",
      "Original Answer:\n",
      "Initially, I did not assume there was a model2. I copied the original model1.bin and dv.bin. Then when I tried to load using\n",
      "COPY [\"model2.bin\", \"dv.bin\", \"./\"]\n",
      "then I got the error above in MINGW64 (git bash) on Windows.\n",
      "The temporary solution I found was to use\n",
      "COPY [\"*\", \"./\"]\n",
      "which I assume combines all the files from the original docker image and the files in your working directory.\n",
      "Added by Muhammed Tan\n"
     ]
    }
   ],
   "source": [
    "print(f\"Question:\\n{course_piece['question']}\\n\")\n",
    "print(\"Top Retrieved Answer:\\n{}\\n\".format(result.points[0].payload['text']))\n",
    "print(\"Original Answer:\\n{}\".format(course_piece['text']))"
   ]
  },
  {
   "cell_type": "code",
   "execution_count": 67,
   "metadata": {},
   "outputs": [
    {
     "name": "stdout",
     "output_type": "stream",
     "text": [
      "No, late submissions are not allowed. But if the form is still not closed and it’s after the due date, you can still submit the homework. confirm your submission by the date-timestamp on the Course page.y\n",
      "Older news:[source1] [source2]\n"
     ]
    }
   ],
   "source": [
    "print(search(\"What if I submit homeworks late?\").points[0].payload['text'])\n"
   ]
  },
  {
   "cell_type": "markdown",
   "metadata": {},
   "source": []
  },
  {
   "cell_type": "code",
   "execution_count": 68,
   "metadata": {},
   "outputs": [
    {
     "data": {
      "text/plain": [
       "UpdateResult(operation_id=5, status=<UpdateStatus.COMPLETED: 'completed'>)"
      ]
     },
     "execution_count": 68,
     "metadata": {},
     "output_type": "execute_result"
    }
   ],
   "source": [
    "client.create_payload_index(\n",
    "    collection_name=collection_name,\n",
    "    field_name=\"course\",\n",
    "    field_schema=\"keyword\" # exact matching on string metadata fields\n",
    ")"
   ]
  },
  {
   "cell_type": "code",
   "execution_count": 69,
   "metadata": {},
   "outputs": [],
   "source": [
    "def search_in_course(query, course=\"mlops-zoomcamp\", limit=1):\n",
    "\n",
    "    results = client.query_points(\n",
    "        collection_name=collection_name,\n",
    "        query=models.Document( #embed the query text locally with \"jinaai/jina-embeddings-v2-small-en\"\n",
    "            text=query,\n",
    "            model=model_handle\n",
    "        ),\n",
    "        query_filter=models.Filter( # filter by course name\n",
    "            must=[\n",
    "                models.FieldCondition(\n",
    "                    key=\"course\",\n",
    "                    match=models.MatchValue(value=course)\n",
    "                )\n",
    "            ]\n",
    "        ),\n",
    "        limit=limit, # top closest matches\n",
    "        with_payload=True #to get metadata in the results\n",
    "    )\n",
    "\n",
    "    return results"
   ]
  },
  {
   "cell_type": "code",
   "execution_count": 70,
   "metadata": {},
   "outputs": [
    {
     "name": "stdout",
     "output_type": "stream",
     "text": [
      "Please choose the closest one to your answer. Also do not post your answer in the course slack channel.\n"
     ]
    }
   ],
   "source": [
    "print(search_in_course(\"What if I submit homeworks late?\", \"mlops-zoomcamp\").points[0].payload['text'])\n"
   ]
  },
  {
   "cell_type": "code",
   "execution_count": null,
   "metadata": {},
   "outputs": [],
   "source": []
  }
 ],
 "metadata": {
  "kernelspec": {
   "display_name": "llm-zc",
   "language": "python",
   "name": "python3"
  },
  "language_info": {
   "codemirror_mode": {
    "name": "ipython",
    "version": 3
   },
   "file_extension": ".py",
   "mimetype": "text/x-python",
   "name": "python",
   "nbconvert_exporter": "python",
   "pygments_lexer": "ipython3",
   "version": "3.10.0"
  },
  "orig_nbformat": 4
 },
 "nbformat": 4,
 "nbformat_minor": 2
}
